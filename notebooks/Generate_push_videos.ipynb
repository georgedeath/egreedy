{
 "cells": [
  {
   "cell_type": "markdown",
   "metadata": {},
   "source": [
    "# Generate push4/push8 videos\n",
    "\n",
    "This notebook contains the code needed to reproduce the push4 and push8 videos created for the supplementary material."
   ]
  },
  {
   "cell_type": "code",
   "execution_count": 1,
   "metadata": {},
   "outputs": [],
   "source": [
    "import numpy as np\n",
    "import matplotlib.pyplot as plt\n",
    "\n",
    "# add the egreedy module to the path (one directory up from this)\n",
    "import sys, os\n",
    "sys.path.append(os.path.realpath(os.path.pardir))"
   ]
  },
  {
   "cell_type": "code",
   "execution_count": 2,
   "metadata": {},
   "outputs": [],
   "source": [
    "problem_names = ['push4', 'push8']\n",
    "\n",
    "method_names = ['LHS', 'Explore', 'EI', 'PI', 'UCB', 'PFRandom',\n",
    "                'eRandom_eps0.1', 'eFront_eps0.1', 'Exploit']"
   ]
  },
  {
   "cell_type": "markdown",
   "metadata": {},
   "source": [
    "# Generate individual videos showing the quality of random samples"
   ]
  },
  {
   "cell_type": "code",
   "execution_count": 3,
   "metadata": {},
   "outputs": [],
   "source": [
    "from egreedy import test_problems\n",
    "\n",
    "save_dir = r'C:\\temp\\push_images'"
   ]
  },
  {
   "cell_type": "code",
   "execution_count": null,
   "metadata": {},
   "outputs": [],
   "source": [
    "for problem_name in problem_names:\n",
    "\n",
    "    for run_no in [1, 2, 3]:\n",
    "        # load training points and problem instance info\n",
    "        training_data = f'../training_data/{problem_name:}_{run_no:}.npz'\n",
    "        with np.load(training_data, allow_pickle=True) as data:\n",
    "            Xtr = data['arr_0']\n",
    "            Ytr = data['arr_1']\n",
    "            f_optional_arguments = data['arr_2'].item()\n",
    "\n",
    "        # instantiate function\n",
    "        f_class = getattr(test_problems, problem_name)\n",
    "        f = f_class(**f_optional_arguments)\n",
    "\n",
    "        x = Xtr[0]\n",
    "\n",
    "        save_dir_path = os.path.join(save_dir, f'{problem_name}_{run_no}_LHS')\n",
    "        if not os.path.exists(save_dir_path):\n",
    "            os.makedirs(save_dir_path)\n",
    "\n",
    "        f(x, {'show': True,\n",
    "              'save': True,\n",
    "              'save_every': 1,\n",
    "              'save_dir': save_dir_path,\n",
    "              'save_prefix': f'{problem_name}_{run_no}'\n",
    "             })"
   ]
  },
  {
   "cell_type": "markdown",
   "metadata": {},
   "source": [
    "# Repeat for the best solutions to a number of problem instances"
   ]
  },
  {
   "cell_type": "code",
   "execution_count": null,
   "metadata": {},
   "outputs": [],
   "source": [
    "for problem_name in ['push4', 'push8']:\n",
    "    for run_no in [4, 18, 23, 24, 25, 43, 37, 38]:\n",
    "        # load the problem instance params\n",
    "        training_data = f'../training_data/{problem_name:}_{run_no:}.npz'\n",
    "        with np.load(training_data, allow_pickle=True) as data:\n",
    "            f_optional_arguments = data['arr_2'].item()\n",
    "\n",
    "        # instantiate function\n",
    "        f_class = getattr(test_problems, problem_name)\n",
    "        f = f_class(**f_optional_arguments)\n",
    "        \n",
    "        # find the best run\n",
    "        best_y = np.inf\n",
    "        best_x = None\n",
    "\n",
    "        for method_name in method_names:\n",
    "            save_file = f'../results_paper/{problem_name:}_{run_no:}_250_{method_name:}.npz'\n",
    "            with np.load(save_file, allow_pickle=True) as data:\n",
    "                Xtr = data['Xtr']\n",
    "                Ytr = data['Ytr'].flat\n",
    "                \n",
    "            argmin = np.argmin(Ytr)\n",
    "            if Ytr[argmin] < best_y:\n",
    "                best_y = Ytr[argmin]\n",
    "                best_x = Xtr[argmin, :]\n",
    "                \n",
    "        # write the images\n",
    "        save_dir_path = os.path.join(save_dir, f'{problem_name}_{run_no}_best')\n",
    "        if not os.path.exists(save_dir_path):\n",
    "            os.makedirs(save_dir_path)\n",
    "\n",
    "        ret = f(best_x, {'show': True,\n",
    "                         'save': True,\n",
    "                         'save_every': 1,\n",
    "                         'save_dir': save_dir_path,\n",
    "                         'save_prefix': f'{problem_name}_{run_no}'\n",
    "                         })"
   ]
  },
  {
   "cell_type": "markdown",
   "metadata": {},
   "source": [
    "# write all the images to video files using imageio"
   ]
  },
  {
   "cell_type": "code",
   "execution_count": null,
   "metadata": {
    "scrolled": true
   },
   "outputs": [],
   "source": [
    "import glob\n",
    "from imageio import get_writer, imread\n",
    "\n",
    "folders = [path for path in glob.glob(os.path.join(save_dir, '*')) \n",
    "           if os.path.isdir(path)]\n",
    "\n",
    "folders = sorted(folders)\n",
    "\n",
    "for problem_folder in folders:\n",
    "\n",
    "    problem_name = os.path.basename(problem_folder)\n",
    "    print(problem_folder, problem_name)\n",
    "    \n",
    "    # read in video\n",
    "    files = glob.glob(os.path.join(problem_folder, '*.png'))\n",
    "    files = sorted(files, key=lambda x: int(x.split('_')[-2]))\n",
    "\n",
    "    save_fname = os.path.join(save_dir, f'{problem_name}.mp4')\n",
    "    \n",
    "    with get_writer(save_fname, fps=30) as w:\n",
    "        for file in files:\n",
    "            I = imread(file)\n",
    "            w.append_data(imread(file))"
   ]
  },
  {
   "cell_type": "markdown",
   "metadata": {},
   "source": [
    "# Create two videos showing the optimisation improvement over a run"
   ]
  },
  {
   "cell_type": "code",
   "execution_count": 33,
   "metadata": {
    "scrolled": true
   },
   "outputs": [
    {
     "name": "stderr",
     "output_type": "stream",
     "text": [
      "IMAGEIO FFMPEG_WRITER WARNING: input image is not divisible by macro_block_size=16, resizing from (750, 750) to (752, 752) to ensure video compatibility with most codecs and players. To prevent resizing, make your input image divisible by the macro_block_size or set the macro_block_size to 1 (risking incompatibility).\n"
     ]
    },
    {
     "name": "stdout",
     "output_type": "stream",
     "text": [
      "0 [26.26065088] 26.260650881577234\n",
      "49 [4.64730593] 4.6473059286451885\n",
      "99 [1.74190446] 1.74190446051895\n",
      "199 [0.84050055] 0.8405005481257952\n",
      "249 [0.01313448] 0.01313448110158422\n"
     ]
    },
    {
     "name": "stderr",
     "output_type": "stream",
     "text": [
      "IMAGEIO FFMPEG_WRITER WARNING: input image is not divisible by macro_block_size=16, resizing from (750, 750) to (752, 752) to ensure video compatibility with most codecs and players. To prevent resizing, make your input image divisible by the macro_block_size or set the macro_block_size to 1 (risking incompatibility).\n"
     ]
    },
    {
     "name": "stdout",
     "output_type": "stream",
     "text": [
      "0 [35.76675201] 35.766752006637745\n",
      "49 [9.80116746] 9.80116745917844\n",
      "99 [6.21338043] 6.213380428986013\n",
      "199 [1.42174986] 1.4217498551129917\n",
      "249 [0.12470443] 0.12470442504557139\n"
     ]
    }
   ],
   "source": [
    "import cv2\n",
    "import glob\n",
    "from imageio import get_writer, imread\n",
    "\n",
    "iterations = [0, 49, 99, 199, 249]\n",
    "\n",
    "for problem_name, run_no in [['push4', 15], \n",
    "                             ['push8', 18]]:\n",
    "    # load the problem instance params\n",
    "    training_data = f'../training_data/{problem_name:}_{run_no:}.npz'\n",
    "    with np.load(training_data, allow_pickle=True) as data:\n",
    "        f_optional_arguments = data['arr_2'].item()\n",
    "\n",
    "    # instantiate function\n",
    "    f_class = getattr(test_problems, problem_name)\n",
    "    f = f_class(**f_optional_arguments)\n",
    "\n",
    "    # find the best run\n",
    "    best_Ytr = np.inf\n",
    "    best_Xtr = None\n",
    "\n",
    "    for method_name in method_names:\n",
    "        save_file = f'../results_paper/{problem_name:}_{run_no:}_250_{method_name:}.npz'\n",
    "        with np.load(save_file, allow_pickle=True) as data:\n",
    "            Xtr = data['Xtr']\n",
    "            Ytr = data['Ytr'].ravel()\n",
    "\n",
    "        argmin = np.argmin(Ytr)\n",
    "        if Ytr[argmin] < np.min(best_Ytr):\n",
    "            best_Ytr = Ytr\n",
    "            best_Xtr = Xtr\n",
    "            \n",
    "    save_fname = os.path.join(save_dir, f'{problem_name}_{run_no}_combined.mp4')\n",
    "    \n",
    "    with get_writer(save_fname, fps=100) as w:\n",
    "        sorted_inds = np.argsort(best_Ytr)[::-1]\n",
    "        for i in iterations:\n",
    "            # write the images\n",
    "            save_dir_path = os.path.join(save_dir, f'{problem_name}_{run_no}_{i}')\n",
    "            if not os.path.exists(save_dir_path):\n",
    "                os.makedirs(save_dir_path)\n",
    "            ret = f(best_Xtr[sorted_inds[i], :], {'show': True,\n",
    "                                    'save': True,\n",
    "                                    'save_every': 1,\n",
    "                                    'save_dir': save_dir_path,\n",
    "                                    'save_prefix': f'{problem_name}_{run_no}'\n",
    "                                    })\n",
    "            print(i, ret, best_Ytr[sorted_inds[i]])\n",
    "\n",
    "            # read in video\n",
    "            files = glob.glob(os.path.join(save_dir_path, '*.png'))\n",
    "            files = sorted(files, key=lambda x: int(x.split('_')[-2]))\n",
    "        \n",
    "            for file in files:\n",
    "                I = imread(file)\n",
    "                cv2.putText(I, f'Iteration {i+1:d}', (10, 740), \n",
    "                            cv2.FONT_HERSHEY_COMPLEX,\n",
    "                            1, (0, 0, 0), 1, cv2.LINE_AA)\n",
    "                w.append_data(I)"
   ]
  },
  {
   "cell_type": "code",
   "execution_count": 19,
   "metadata": {},
   "outputs": [
    {
     "name": "stderr",
     "output_type": "stream",
     "text": [
      "IMAGEIO FFMPEG_WRITER WARNING: input image is not divisible by macro_block_size=16, resizing from (750, 750) to (752, 752) to ensure video compatibility with most codecs and players. To prevent resizing, make your input image divisible by the macro_block_size or set the macro_block_size to 1 (risking incompatibility).\n"
     ]
    }
   ],
   "source": [
    "# read in video\n",
    "files = glob.glob(os.path.join(save_dir_path, '*.png'))\n",
    "files = sorted(files, key=lambda x: int(x.split('_')[-2]))\n",
    "with get_writer(save_fname, fps=30) as w:\n",
    "    for file in files:\n",
    "        I = imread(file)\n",
    "        cv2.putText(I, f'Iteration {i+1:d}', (10, 740), \n",
    "                    cv2.FONT_HERSHEY_COMPLEX,\n",
    "                    1, (0, 0, 0), 1, cv2.LINE_AA)\n",
    "\n",
    "        w.append_data(I)"
   ]
  }
 ],
 "metadata": {
  "kernelspec": {
   "display_name": "Python 3",
   "language": "python",
   "name": "python3"
  },
  "language_info": {
   "codemirror_mode": {
    "name": "ipython",
    "version": 3
   },
   "file_extension": ".py",
   "mimetype": "text/x-python",
   "name": "python",
   "nbconvert_exporter": "python",
   "pygments_lexer": "ipython3",
   "version": "3.7.7"
  }
 },
 "nbformat": 4,
 "nbformat_minor": 2
}
